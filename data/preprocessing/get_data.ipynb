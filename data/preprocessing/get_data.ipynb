{
 "cells": [
  {
   "cell_type": "markdown",
   "metadata": {
    "pycharm": {
     "name": "#%% md\n"
    }
   },
   "source": [
    "# Loading and parsing the OEDILF dataset from [PoetRNN](https://github.com/sballas8/PoetRNN)\n",
    "\n",
    "Just a quick notebook for downloading the dataset, exploring it, and parsing it into JSON\n",
    "Note that PoetRNN only contains 90,000 limericks, whereas the website already has 113,885 approved ones by now, so we might have to scrape the rest ourselves if we need them!"
   ]
  },
  {
   "cell_type": "markdown",
   "metadata": {
    "pycharm": {
     "name": "#%% md\n"
    }
   },
   "source": [
    "### Downloading the data"
   ]
  },
  {
   "cell_type": "code",
   "execution_count": 1,
   "metadata": {
    "collapsed": false,
    "jupyter": {
     "outputs_hidden": false
    },
    "pycharm": {
     "name": "#%%\n"
    }
   },
   "outputs": [
    {
     "name": "stdout",
     "output_type": "stream",
     "text": [
      "--2023-11-25 01:18:16--  https://github.com/sballas8/PoetRNN/raw/master/data/limericks.csv\n",
      "Resolving github.com (github.com)... 140.82.113.4\n",
      "Connecting to github.com (github.com)|140.82.113.4|:443... connected.\n",
      "HTTP request sent, awaiting response... 302 Found\n",
      "Location: https://raw.githubusercontent.com/sballas8/PoetRNN/master/data/limericks.csv [following]\n",
      "--2023-11-25 01:18:16--  https://raw.githubusercontent.com/sballas8/PoetRNN/master/data/limericks.csv\n",
      "Resolving raw.githubusercontent.com (raw.githubusercontent.com)... 185.199.109.133, 185.199.108.133, 185.199.111.133, ...\n",
      "Connecting to raw.githubusercontent.com (raw.githubusercontent.com)|185.199.109.133|:443... connected.\n",
      "HTTP request sent, awaiting response... 200 OK\n",
      "Length: 15723453 (15M) [text/plain]\n",
      "Saving to: ‘limericks.csv.1’\n",
      "\n",
      "limericks.csv.1     100%[===================>]  14.99M  --.-KB/s    in 0.02s   \n",
      "\n",
      "2023-11-25 01:18:16 (654 MB/s) - ‘limericks.csv.1’ saved [15723453/15723453]\n",
      "\n",
      "get_data.ipynb\tlimericks.csv  limericks.csv.1\tlimericks.json\n"
     ]
    }
   ],
   "source": [
    "url = 'https://github.com/sballas8/PoetRNN/raw/master/data/limericks.csv'\n",
    "!wget $url\n",
    "!ls"
   ]
  },
  {
   "cell_type": "markdown",
   "metadata": {
    "pycharm": {
     "name": "#%% md\n"
    }
   },
   "source": [
    "### Parsing into JSON"
   ]
  },
  {
   "cell_type": "markdown",
   "metadata": {
    "pycharm": {
     "name": "#%% md\n"
    }
   },
   "source": [
    "OEDILF dataset is just 15MB, so can just load into memory all at once for now to parse into json"
   ]
  },
  {
   "cell_type": "code",
   "execution_count": 2,
   "metadata": {
    "collapsed": false,
    "jupyter": {
     "outputs_hidden": false
    },
    "pycharm": {
     "name": "#%%\n"
    }
   },
   "outputs": [],
   "source": [
    "import json"
   ]
  },
  {
   "cell_type": "code",
   "execution_count": 3,
   "metadata": {
    "collapsed": false,
    "jupyter": {
     "outputs_hidden": false
    },
    "pycharm": {
     "name": "#%%\n"
    }
   },
   "outputs": [
    {
     "data": {
      "text/plain": [
       "[\"cap'n jack was washed over the side.\\nhis crew searched but found not hair nor hide.\\nno longer the helm,\\nbut the deep benthic realm,\\nis where jack will forever reside.\",\n",
       " \"ablactation, to wean off the breast,\\nshould wait 'til age 2; this is best.\\nthough some men never quit\\n(bet you thought i'd rhyme tit)\\nbecause they're mammarially obsessed.\",\n",
       " \"as a soup, bisque is best when served hot.\\nmade with lobster, it hits the right spot.\\ni think it tastes dreamy;\\nit's so rich and creamy.\\nit's the soup you'd be served on a yacht.\"]"
      ]
     },
     "execution_count": 3,
     "metadata": {},
     "output_type": "execute_result"
    }
   ],
   "source": [
    "with open('limericks.csv', 'r') as limericks_file:\n",
    "    content = limericks_file.read()\n",
    "limericks = content.split(\"\\\"\")\n",
    "stripped = [limerick.strip('\\n') for limerick in limericks]\n",
    "filtered = [limerick for limerick in stripped if len(limerick) > 0]\n",
    "filtered[:3]"
   ]
  },
  {
   "cell_type": "code",
   "execution_count": 4,
   "metadata": {
    "collapsed": false,
    "jupyter": {
     "outputs_hidden": false
    },
    "pycharm": {
     "name": "#%%\n"
    }
   },
   "outputs": [],
   "source": [
    "def parse_limerick(limerick):\n",
    "    \"\"\"Parse a full limerick into a dictionary containing a list of lines\n",
    "\n",
    "    :param limerick: full limerick as a single string\n",
    "    :return: dictionary, where the 'lines' field has a list of 5 limerick lines\n",
    "    \"\"\"\n",
    "    lines = limerick.split('\\n')\n",
    "    if len(lines) != 5:\n",
    "        return None\n",
    "    else:\n",
    "        return {'lines': lines}\n",
    "\n",
    "def limericks_to_json(limericks, json_path):\n",
    "    \"\"\"Parse a list of limerick strings and dump it as JSON\n",
    "\n",
    "    :param limericks: list of limerick strings\n",
    "    :param json_path: output path where JSON will be dumped\n",
    "    :return: None\n",
    "    \"\"\"\n",
    "    output = {'count': 0, 'limericks': {}}\n",
    "    for index, limerick in enumerate(limericks):\n",
    "        limerick_dict = parse_limerick(limerick)\n",
    "        if limerick_dict:\n",
    "            output['limericks'][index] = limerick_dict\n",
    "\n",
    "    output['count'] = len(output['limericks'])\n",
    "\n",
    "    with open(json_path, 'w') as outfile:\n",
    "        json.dump(output, outfile)"
   ]
  },
  {
   "cell_type": "code",
   "execution_count": 5,
   "metadata": {
    "collapsed": false,
    "jupyter": {
     "outputs_hidden": false
    },
    "pycharm": {
     "name": "#%%\n"
    }
   },
   "outputs": [],
   "source": [
    "limericks_to_json(filtered, 'limericks.json')"
   ]
  },
  {
   "cell_type": "code",
   "execution_count": null,
   "metadata": {
    "collapsed": false,
    "jupyter": {
     "outputs_hidden": false
    },
    "pycharm": {
     "name": "#%%\n"
    }
   },
   "outputs": [],
   "source": []
  }
 ],
 "metadata": {
  "kernelspec": {
   "display_name": "Python 3 (ipykernel)",
   "language": "python",
   "name": "python3"
  },
  "language_info": {
   "codemirror_mode": {
    "name": "ipython",
    "version": 3
   },
   "file_extension": ".py",
   "mimetype": "text/x-python",
   "name": "python",
   "nbconvert_exporter": "python",
   "pygments_lexer": "ipython3",
   "version": "3.9.9"
  }
 },
 "nbformat": 4,
 "nbformat_minor": 4
}
